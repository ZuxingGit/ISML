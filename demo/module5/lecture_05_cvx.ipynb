{
 "cells": [
  {
   "cell_type": "markdown",
   "metadata": {},
   "source": [
    "# Hi\n",
    "I am a very simple example of using cvxpy to solve a linear problem. Please note, you may not have cvxpy or numpy installed. If not, I'd suggest downloading Anaconda and creating a conda environment. After activating that environment, use 'conda install' to install both numpy and cvxpy.\n",
    "\n",
    "The problem being solved:\n",
    "\n",
    "minimize: c'x        (' is transpose)\n",
    "\n",
    "with: Ax <= b        (A is a matrix)"
   ]
  },
  {
   "cell_type": "code",
   "execution_count": 3,
   "metadata": {},
   "outputs": [
    {
     "name": "stdout",
     "output_type": "stream",
     "text": [
      "\n",
      "The optimal value is -15.220912604404734\n",
      "A solution x is:\n",
      "[-1.1015836  -0.16207264 -0.90072438  0.03042621  0.61108486 -1.13141957\n",
      "  1.1270734   0.87833367  0.48871908  0.89807117]\n",
      "A dual solution is:\n",
      "[2.45894465e-09 6.11756417e-01 5.28171745e-01 1.07296862e+00\n",
      " 6.38551759e-09 2.30153871e+00 1.12756226e-09 7.61206895e-01\n",
      " 1.31943329e-08 2.49370376e-01 2.02551668e-09 2.06014070e+00\n",
      " 3.22417209e-01 3.84054335e-01 2.94503995e-09]\n"
     ]
    }
   ],
   "source": [
    "import cvxpy as cp\n",
    "import numpy as np\n",
    "\n",
    "# Generate a random non-trivial linear program\n",
    "\n",
    "# The dimensions of A\n",
    "m = 15 # There are 15 constraints\n",
    "n = 10 # There are ten input x variables\n",
    "\n",
    "# We need to fix the seed to ensure we are doing the same thing every time (otherwise it is hard to tinker with)\n",
    "np.random.seed(1)\n",
    "\n",
    "# There are some shenanigans here to ensure the linear problem is actually solvable\n",
    "s0 = np.random.randn(m)\n",
    "lamb0 = np.maximum(-s0, 0)\n",
    "s0 = np.maximum(s0, 0)\n",
    "x0 = np.random.randn(n)\n",
    "\n",
    "# Here we are solving this arbitrary set of constraints on x\n",
    "A = np.random.randn(m, n)\n",
    "b = A @ x0 + s0\n",
    "c = -A.T @ lamb0\n",
    "\n",
    "# Define and solve the CVXPY problem\n",
    "x = cp.Variable(n)\n",
    "prob = cp.Problem(cp.Minimize(c.T@x), [A @ x <= b])\n",
    "\n",
    "prob.solve()\n",
    "\n",
    "# Pretty Printing\n",
    "print(\"\\nThe optimal value is\", prob.value)\n",
    "print(\"A solution x is:\")\n",
    "print(x.value)\n",
    "print(\"A dual solution is:\")\n",
    "print(prob.constraints[0].dual_value)\n"
   ]
  },
  {
   "cell_type": "markdown",
   "metadata": {},
   "source": [
    "So, now for an explanation...\n",
    "\n",
    "We are trying to minimize c'x, which means our optimal value should be the lowest it can go."
   ]
  },
  {
   "cell_type": "code",
   "execution_count": 4,
   "metadata": {},
   "outputs": [
    {
     "name": "stdout",
     "output_type": "stream",
     "text": [
      "## c values\n",
      "[ 5.9159385  -0.38653276 -1.58376908 -3.45614976 -4.00186624  2.30939272\n",
      "  0.4855809  -2.76450383 -4.55428255 -1.02779359]\n",
      "## x values\n",
      "[-1.1015836  -0.16207264 -0.90072438  0.03042621  0.61108486 -1.13141957\n",
      "  1.1270734   0.87833367  0.48871908  0.89807117]\n",
      "## c'x\n",
      "-15.220912604404738\n",
      "## Ax < b\n",
      "[ 0.64783858 -0.07902089 -2.93864432  1.93790752 -0.33841503  2.57175626\n",
      " -1.07781715  1.88614126  3.11098313  2.75695133 -2.0142154   3.38791401\n",
      " -0.31286019 -0.46582275  2.63446924]\n",
      "b:  [ 2.17495142 -0.07902089 -2.93864432  1.93790752  0.57842629  2.57175626\n",
      "  0.67612818  1.88614126  3.3688581   2.75695134 -0.63273236  3.38791401\n",
      " -0.31286018 -0.46582275  3.89352826]\n",
      "## All of the constraints that were not violated!\n",
      "[ True  True  True  True  True  True  True  True  True  True  True  True\n",
      "  True  True  True]\n"
     ]
    }
   ],
   "source": [
    "# Our 'c' values\n",
    "print(\"## c values\")\n",
    "print(c)\n",
    "\n",
    "# Our 'theoretical x' values (the ones we think will minimize c'x)\n",
    "print(\"## x values\")\n",
    "print(x.value)\n",
    "\n",
    "# Our product\n",
    "print(\"## c'x\")\n",
    "print(np.sum(c * x.value))\n",
    "\n",
    "# Finally, what does the A.x values end up as\n",
    "print(\"## Ax < b\")\n",
    "print(np.matmul(A, x.value))\n",
    "print(\"b: \", b)\n",
    "print(\"## All of the constraints that were not violated!\")\n",
    "print(np.matmul(A, x.value) <= b + 0.0001) # This is a hack... just because of nasty rounding"
   ]
  }
 ],
 "metadata": {
  "kernelspec": {
   "display_name": "mbd",
   "language": "python",
   "name": "python3"
  },
  "language_info": {
   "codemirror_mode": {
    "name": "ipython",
    "version": 3
   },
   "file_extension": ".py",
   "mimetype": "text/x-python",
   "name": "python",
   "nbconvert_exporter": "python",
   "pygments_lexer": "ipython3",
   "version": "3.12.5"
  },
  "orig_nbformat": 4
 },
 "nbformat": 4,
 "nbformat_minor": 2
}
