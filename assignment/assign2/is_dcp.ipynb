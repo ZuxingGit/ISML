{
 "cells": [
  {
   "cell_type": "markdown",
   "metadata": {},
   "source": [
    " to check if your constraint / objective follow DCP rules"
   ]
  },
  {
   "cell_type": "code",
   "execution_count": 2,
   "metadata": {},
   "outputs": [],
   "source": [
    "import cvxpy as cp"
   ]
  },
  {
   "cell_type": "code",
   "execution_count": 5,
   "metadata": {},
   "outputs": [
    {
     "name": "stdout",
     "output_type": "stream",
     "text": [
      "prob1 is DCP: True\n",
      "prob2 is DCP: True\n"
     ]
    }
   ],
   "source": [
    "x = cp.Variable()\n",
    "y = cp.Variable()\n",
    "\n",
    "# DCP problems\n",
    "prob1 = cp.Problem(cp.Minimize(cp.square(x - y)), [x + y >= 0])\n",
    "prob2 = cp.Problem(cp.Maximize(cp.sqrt(x - y)), [2*x - 3 == y, cp.square(x) <= 2])\n",
    "\n",
    "print(\"prob1 is DCP:\", prob1.is_dcp())\n",
    "print(\"prob2 is DCP:\", prob2.is_dcp())"
   ]
  },
  {
   "cell_type": "code",
   "execution_count": 8,
   "metadata": {},
   "outputs": [
    {
     "name": "stdout",
     "output_type": "stream",
     "text": [
      "Maximize(square(x)) is DCP: False\n",
      "prob3 is DCP: False\n",
      "sqrt(x) <= 2 is DCP: False\n",
      "prob4 is DCP: False\n"
     ]
    }
   ],
   "source": [
    "# Non-DCP problems\n",
    "\n",
    "# A non-DCP objective\n",
    "obj = cp.Maximize(cp.square(x))\n",
    "prob3 = cp.Problem(obj)\n",
    "\n",
    "print(\"Maximize(square(x)) is DCP:\", obj.is_dcp())\n",
    "print(\"prob3 is DCP:\", prob3.is_dcp())\n",
    "\n",
    "# A non-DCP constraint\n",
    "prob4 = cp.Problem(cp.Minimize(cp.square(x)), [cp.sqrt(x) <= 2])\n",
    "\n",
    "print(f\"sqrt(x) <= 2 is DCP: {(cp.sqrt(x) <= 2).is_dcp()}\")\n",
    "print(f\"prob4 is DCP: {prob4.is_dcp()}\")"
   ]
  }
 ],
 "metadata": {
  "kernelspec": {
   "display_name": "isml",
   "language": "python",
   "name": "python3"
  },
  "language_info": {
   "codemirror_mode": {
    "name": "ipython",
    "version": 3
   },
   "file_extension": ".py",
   "mimetype": "text/x-python",
   "name": "python",
   "nbconvert_exporter": "python",
   "pygments_lexer": "ipython3",
   "version": "3.12.5"
  }
 },
 "nbformat": 4,
 "nbformat_minor": 2
}
