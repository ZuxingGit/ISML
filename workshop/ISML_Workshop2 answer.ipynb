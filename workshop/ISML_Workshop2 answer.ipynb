{
  "cells": [
    {
      "cell_type": "markdown",
      "id": "98549f55",
      "metadata": {
        "id": "98549f55"
      },
      "source": [
        "\n",
        "## 0. Implementing SVM hard and soft margin using CVXPY\n",
        "\n",
        "\n",
        "For reference, specification of cvxpy atomic functions:\n",
        "- https://www.cvxpy.org/tutorial/functions/index.html\n",
        "\n",
        "For a quick recap of SVM:\n",
        "- https://www.kdnuggets.com/2020/03/machine-learning-algorithm-svm-explained.html\n",
        "- https://www.analyticsvidhya.com/blog/2021/10/support-vector-machinessvm-a-complete-guide-for-beginners/\n",
        "\n"
      ]
    },
    {
      "cell_type": "markdown",
      "id": "6eee085d",
      "metadata": {},
      "source": [
        "<!-- ## If you want to get a copy of the code, you can type the following link in Google Chrome to get the file\n",
        "# https://colab.research.google.com/drive/13hxhiniX3t9KXhLRa10lCSBwRB6TkFiZ?usp=sharing -->"
      ]
    },
    {
      "cell_type": "markdown",
      "id": "ba235c6f",
      "metadata": {
        "id": "ba235c6f"
      },
      "source": [
        "## 1. Hard Margin SVM\n",
        "\n",
        "\n",
        "If the training data is linearly separable then we can select two parallel hyperplanes that separate the two classes of data, so that the distance between them is as large as possible. The region bounded by these two hyperplanes is called the “margin”, and the maximum-margin hyperplane is the hyperplane that lies halfway between them."
      ]
    },
    {
      "cell_type": "code",
      "execution_count": null,
      "id": "495f1f3a",
      "metadata": {
        "colab": {
          "base_uri": "https://localhost:8080/"
        },
        "id": "495f1f3a",
        "outputId": "668febe3-aaf1-4108-e1d7-4e5f40c5638a"
      },
      "outputs": [],
      "source": [
        "# 1. Install dependency:\n",
        "# !pip install cvxpy\n",
        "# !pip install scikit-learn"
      ]
    },
    {
      "cell_type": "code",
      "execution_count": 2,
      "id": "30280f76",
      "metadata": {
        "id": "30280f76"
      },
      "outputs": [],
      "source": [
        "# 2. Load library\n",
        "import numpy as np\n",
        "import cvxpy as cp\n",
        "from sklearn.datasets import make_blobs\n",
        "from sklearn.model_selection import train_test_split\n",
        "import matplotlib.pyplot as plt\n",
        "# Ref: https://ai538393399.wordpress.com/2020/11/25/svm-using-cvxpy/"
      ]
    },
    {
      "cell_type": "markdown",
      "id": "8c3166e8",
      "metadata": {},
      "source": []
    },
    {
      "cell_type": "code",
      "execution_count": 3,
      "id": "177c0c28",
      "metadata": {
        "colab": {
          "base_uri": "https://localhost:8080/",
          "height": 430
        },
        "id": "177c0c28",
        "outputId": "37a678e1-5e65-4b8e-ec3e-a4d9b729b5f4"
      },
      "outputs": [
        {
          "name": "stdout",
          "output_type": "stream",
          "text": [
            "x has shape (100, 2)\n",
            "y has shape (100,)\n"
          ]
        },
        {
          "data": {
            "image/png": "[encoded data removed]",
            "text/plain": [
              "<Figure size 432x288 with 1 Axes>"
            ]
          },
          "metadata": {
            "needs_background": "light"
          },
          "output_type": "display_data"
        }
      ],
      "source": [
        "# 3. Generate and plot dataset\n",
        "np.random.seed(1)\n",
        "X,y = make_blobs(n_samples=100, centers=2, n_features=2)\n",
        "\n",
        "# change the label set from [0,1] to [-1,1]\n",
        "y[y==0] = -1\n",
        "m,n = np.shape(X)\n",
        "print('x has shape {}'.format(X.shape))\n",
        "print('y has shape {}'.format(y.shape))\n",
        "\n",
        "# Visualize\n",
        "plt.scatter(X[:,0], X[:,1], marker='o', c=y, s=25)\n",
        "plt.show()"
      ]
    },
    {
      "cell_type": "markdown",
      "id": "32237b00",
      "metadata": {
        "id": "32237b00"
      },
      "source": [
        "### Instructions:\n",
        "- See slide 68 in lecture __'Linear Classification and SVM'__, we have an objective as the following:\n",
        "$$\\min_{w, b} \\frac{1}{2}||w||_2^2$$\n",
        "$$S.T. y_i(w^T x_i+b)>=1$$\n",
        "\n",
        "- Implement a solution for hard margin using a function `cp.Minimize()` which\n",
        "aims to minimize an objective."
      ]
    },
    {
      "cell_type": "markdown",
      "id": "1298cca1",
      "metadata": {},
      "source": []
    },
    {
      "cell_type": "code",
      "execution_count": 18,
      "id": "f738cc16",
      "metadata": {
        "id": "f738cc16"
      },
      "outputs": [
        {
          "name": "stdout",
          "output_type": "stream",
          "text": [
            "Status of optimization: optimal\n",
            "Optimal value of W:  [-0.16964472 -0.17773447]\n",
            "Optimal value of b:  -0.8329976874739256\n"
          ]
        }
      ],
      "source": [
        "# 4. Define vars in CVXPY\n",
        "# todo_1\n",
        "W = cp.Variable(n) # weight motrix, choose from n or m\n",
        "# print(W.shape)\n",
        "b = cp.Variable() # gamma term\n",
        "C = 0.01 # Control/Regularization parameters\n",
        "\n",
        "# Hard~margin SYM\n",
        "# objective function is 1/2*||W||_2\"2\n",
        "# You cannot use numpy functions in cvxpy objective function or constraints\n",
        "# cp.power() con be used to find the power of an expression\n",
        "\n",
        "# todo_2\n",
        "objective = cp.Minimize(0.5*cp.square(cp.norm(W)))\n",
        "# constraint y(W'x+b)>=1\n",
        "# y(W'x+b)-1>= 0\n",
        "# todo_3\n",
        "constraints = [cp.multiply(y, X@W+b)-1 >= 0]\n",
        "\n",
        "\n",
        "prob = cp.Problem(objective, constraints)\n",
        "prob.solve()\n",
        "\n",
        "print(\"Status of optimization:\", prob.status)\n",
        "print(\"Optimal value of W: \", W.value)\n",
        "print(\"Optimal value of b: \", b.value)\n"
      ]
    },
    {
      "cell_type": "markdown",
      "id": "273bf4ec",
      "metadata": {
        "id": "273bf4ec"
      },
      "source": [
        "#### Having calculated W and b, you can now classify a new example x, write a function that classifies X"
      ]
    },
    {
      "cell_type": "code",
      "execution_count": 19,
      "id": "b99d6a8d",
      "metadata": {
        "id": "b99d6a8d"
      },
      "outputs": [
        {
          "name": "stdout",
          "output_type": "stream",
          "text": [
            "(10, 2) (2,) ()\n"
          ]
        },
        {
          "data": {
            "text/plain": [
              "array([-1.,  1., -1., -1.,  1.,  1.,  1.,  1., -1., -1.])"
            ]
          },
          "execution_count": 19,
          "metadata": {},
          "output_type": "execute_result"
        }
      ],
      "source": [
        "def classify(x):\n",
        "    # todo_4a\n",
        "    print(x.shape, W.shape, b.shape)\n",
        "    # result = W @ x.T + b\n",
        "    result = x @ W+ b\n",
        "    result = result.value\n",
        "    return np.sign(result)\n",
        "\n",
        "# todo_4b\n",
        "x_test = X[:10, :]\n",
        "classify(x_test)"
      ]
    },
    {
      "cell_type": "markdown",
      "id": "09d713f7",
      "metadata": {
        "id": "09d713f7"
      },
      "source": [
        "#### Try to plot your SVM on the graph"
      ]
    },
    {
      "cell_type": "code",
      "execution_count": 21,
      "id": "616bca43",
      "metadata": {
        "id": "616bca43"
      },
      "outputs": [
        {
          "data": {
            "image/png": "[encoded data removed]",
            "text/plain": [
              "<Figure size 432x288 with 1 Axes>"
            ]
          },
          "metadata": {
            "needs_background": "light"
          },
          "output_type": "display_data"
        }
      ],
      "source": [
        "def plot_SVM(w, b, X = X):\n",
        "    plt.scatter(X[:,0], X[:,1], marker='o', c=y, s=25)\n",
        "    xp = np.linspace(min(X[:,0]), max(X[:,0]), 100)\n",
        "    # print(xp)\n",
        "    # todo_5\n",
        "    w1, w2 = w[0].value, w[1].value\n",
        "    b = b.value\n",
        "    yp = (-w1/w2)*xp - b/w2\n",
        "    plt.plot(xp, yp, '-b')\n",
        "    plt.show()\n",
        "\n",
        "# Visualization\n",
        "plot_SVM(W, b)"
      ]
    },
    {
      "cell_type": "markdown",
      "id": "6e321dec",
      "metadata": {
        "id": "6e321dec"
      },
      "source": [
        "## 2. Soft Margin SVM\n",
        "### Instruction\n",
        "- See slide 68 in lecture __'Linear Classification and SVM'__, we have an objective as the following:"
      ]
    },
    {
      "cell_type": "markdown",
      "id": "6e3475bf",
      "metadata": {
        "id": "6e3475bf"
      },
      "source": [
        "$$\\min_{w, b} \\frac{1}{2}||w||_2^2 + C\\sum_i \\psi_i$$\n",
        "$$S.T. y_i(w^T x_i + b) - 1 + \\psi_i >= 0$$\n",
        "$$\\psi_i\\geq0$$"
      ]
    },
    {
      "cell_type": "code",
      "execution_count": 39,
      "id": "ebc71f8f",
      "metadata": {
        "id": "ebc71f8f"
      },
      "outputs": [
        {
          "name": "stdout",
          "output_type": "stream",
          "text": [
            "Status of optimization:  optimal\n",
            "Optimal value of W:  [-0.17691449 -0.15420815]\n",
            "Optimal value of b:  -0.8700830480689155\n"
          ]
        }
      ],
      "source": [
        "# Soft margin SVM\n",
        "# objective function for soft margin SVM is 0.5w'w + C*sum(Psi)\n",
        "# cvxpy command for computing the transpose of a matrix is cp.transpose(W)\n",
        "\n",
        "#todo_6:\n",
        "Psi = cp.Variable('Replace here') # slack variable, choose from n or m\n",
        "\n",
        "#todo_7\n",
        "objective = 'Replace here'\n",
        "\n",
        "\n",
        "# Constraint y(W'x+b)+Psi-1>=O; Psi>=O\n",
        "#todo_8\n",
        "constraints = ['Replace here']\n",
        "# constraints = [cp.multiply(y, X@W+b)-1 >= 0]\n",
        "\n",
        "\n",
        "prob = cp.Problem(objective, constraints)\n",
        "prob.solve()\n",
        "print(\"Status of optimization: \", prob.status)\n",
        "print(\"Optimal value of W: \", W.value)\n",
        "print(\"Optimal value of b: \", b.value)\n",
        "\n",
        "# print(\"Constraint_0: \", bconstraints[0])\n",
        "# print(\"Constraint_t:\", constraints[1]) # second constraint is available far soft-margin svm\n",
        "# print(\"Dual value for the first constraint: \" , constraints[0].dual_value) # value of the Lagrangian multiplier\n",
        "# print(\"Dual value for the second constraint: \" , constraints[1].dual_value) # second constraint is available for soft-aorgin svm\n"
      ]
    },
    {
      "cell_type": "markdown",
      "id": "33ed9333",
      "metadata": {
        "id": "33ed9333"
      },
      "source": [
        "Plot the SVM again using `plot_SVM()` function implemented before"
      ]
    },
    {
      "cell_type": "code",
      "execution_count": 40,
      "id": "01086ad0",
      "metadata": {
        "id": "01086ad0"
      },
      "outputs": [
        {
          "data": {
            "image/png": "[encoded data removed]",
            "text/plain": [
              "<Figure size 432x288 with 1 Axes>"
            ]
          },
          "metadata": {
            "needs_background": "light"
          },
          "output_type": "display_data"
        }
      ],
      "source": [
        "# Visualization\n",
        "\n",
        "plot_SVM(W,b)"
      ]
    },
    {
      "cell_type": "markdown",
      "id": "5361e129",
      "metadata": {
        "id": "5361e129"
      },
      "source": [
        "### 3. Sklearn SVC module\n",
        "Employ a library to train a SVM model."
      ]
    },
    {
      "cell_type": "code",
      "execution_count": 41,
      "id": "dd3548f5",
      "metadata": {
        "id": "dd3548f5"
      },
      "outputs": [
        {
          "data": {
            "image/png": "[encoded data removed]",
            "text/plain": [
              "<Figure size 432x288 with 1 Axes>"
            ]
          },
          "metadata": {
            "needs_background": "light"
          },
          "output_type": "display_data"
        }
      ],
      "source": [
        "import numpy as np\n",
        "import matplotlib.pyplot as plt\n",
        "from sklearn.datasets import make_blobs\n",
        "from sklearn.svm import SVC\n",
        "from sklearn.model_selection import train_test_split\n",
        "from sklearn.metrics import classification_report, accuracy_score\n",
        "\n",
        "# Generate synthetic data\n",
        "X, y = make_blobs(n_samples=300, centers=2, cluster_std=0.60, random_state=0)\n",
        "\n",
        "# Split the data\n",
        "X_train, X_test, y_train, y_test = train_test_split(X, y, test_size=0.3, random_state=0)\n",
        "\n",
        "# Create an SVM model\n",
        "model = SVC(kernel='linear')  # You can also use other kernels like 'rbf', 'poly', etc.\n",
        "\n",
        "# Train the model\n",
        "model.fit(X_train, y_train)\n",
        "\n",
        "# Function to plot the decision boundary\n",
        "def plot_decision_boundary(X, y, model):\n",
        "    h = .02  # Step size in the mesh\n",
        "    x_min, x_max = X[:, 0].min() - 1, X[:, 0].max() + 1\n",
        "    y_min, y_max = X[:, 1].min() - 1, X[:, 1].max() + 1\n",
        "    xx, yy = np.meshgrid(np.arange(x_min, x_max, h), np.arange(y_min, y_max, h))\n",
        "    Z = model.predict(np.c_[xx.ravel(), yy.ravel()])\n",
        "    Z = Z.reshape(xx.shape)\n",
        "    plt.contourf(xx, yy, Z, alpha=0.3)\n",
        "    plt.scatter(X[:, 0], X[:, 1], c=y, edgecolors='k')\n",
        "    plt.title('Decision Boundary')\n",
        "    plt.show()\n",
        "\n",
        "plot_decision_boundary(X_test, y_test, model)\n"
      ]
    },
    {
      "cell_type": "markdown",
      "id": "89bbeebf",
      "metadata": {
        "id": "89bbeebf"
      },
      "source": [
        "### Questions:\n",
        "- Compare results with soft and hard margin. Does the soft margin do better when the data is more noisy and harder to separate?\n",
        "- Try to change the parameter C above and repeat experiment."
      ]
    }
  ],
  "metadata": {
    "colab": {
      "provenance": []
    },
    "kernelspec": {
      "display_name": "Python 3.9.7 ('base')",
      "language": "python",
      "name": "python3"
    },
    "language_info": {
      "codemirror_mode": {
        "name": "ipython",
        "version": 3
      },
      "file_extension": ".py",
      "mimetype": "text/x-python",
      "name": "python",
      "nbconvert_exporter": "python",
      "pygments_lexer": "ipython3",
      "version": "3.8.13"
    },
    "varInspector": {
      "cols": {
        "lenName": 16,
        "lenType": 16,
        "lenVar": 40
      },
      "kernels_config": {
        "python": {
          "delete_cmd_postfix": "",
          "delete_cmd_prefix": "del ",
          "library": "var_list.py",
          "varRefreshCmd": "print(var_dic_list())"
        },
        "r": {
          "delete_cmd_postfix": ") ",
          "delete_cmd_prefix": "rm(",
          "library": "var_list.r",
          "varRefreshCmd": "cat(var_dic_list()) "
        }
      },
      "types_to_exclude": [
        "module",
        "function",
        "builtin_function_or_method",
        "instance",
        "_Feature"
      ],
      "window_display": false
    },
    "vscode": {
      "interpreter": {
        "hash": "76ea754b25b726a93d8de7d3b8af90723f92451c0edd4df20eb3049105300d87"
      }
    }
  },
  "nbformat": 4,
  "nbformat_minor": 5
}
